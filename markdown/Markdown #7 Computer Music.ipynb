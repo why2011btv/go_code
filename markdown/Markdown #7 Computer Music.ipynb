{
 "cells": [
  {
   "cell_type": "markdown",
   "metadata": {},
   "source": [
    "## http://www.asimovinstitute.org/analyzing-deep-learning-tools-music/\n",
    "\n",
    "## https://software.intel.com/en-us/articles/hands-on-ai-part-22-deep-learning-for-music-generation-1-choosing-a-model-and-data\n",
    "\n",
    "## https://software.intel.com/en-us/articles/hands-on-ai-part-23-deep-learning-for-music-generation-2-implementing-the-model\n",
    "\n",
    "## Notes VS Waves\n",
    "\n",
    "## The described deep learning music applications can be divided into two categories based on the input method. Magenta, DeepJazz, BachBot, and FlowMachines all use input in the form of note sequences, while GRUV and Wavenet use raw audio.\n",
    "\n",
    "## In general, algorithms with weak constraints are often “too random” and rarely make human-like music, though many works are interesting and creative from a contempo- rary perspective. On the other hand, algorithms with strong constraints (either explicitly constrained via rules or implic- itly constrained by training data) are mostly “too flat” and lack the exploration and dynamic that can be easily sensed from genuinely creative works.\n",
    "\n",
    "## 对“音乐内容、音乐风格”进行“分离+重组”\n",
    "\n",
    "## tonality: 调性；chord sequence: 和弦\n",
    "\n",
    "## sound texture: 复调／单调；timbre: 音色／音质\n",
    "\n",
    "## score: 乐谱；performance control: 在乐谱与声音之间演奏者控制的部分\n",
    "\n",
    "## 曲式的类别编辑\n",
    "## 音乐的曲式按照传统音乐可以分为两大类，小型曲式和大型曲式。小型的包括一部曲式，二部曲式，三部曲式，复二部曲式，复三部曲式。大型的包括变奏曲式，回旋曲式，奏鸣曲式，套曲曲式，自由曲式。我国音乐理论家杨儒怀教授则以曲式的共性特征，将它们归纳为\"并列曲式\"、\"再现曲式\"、\"复合曲式\"、\"循环曲式\"、\"变奏曲式\"和\"奏鸣曲式\"、\"回旋奏鸣曲式\"、\"复调音乐曲式\"、\"套曲曲式\"和\"边缘曲式\"。\n",
    "\n",
    "![](Bach.png)\n",
    "\n",
    "## 赋格是盛行于巴洛克时期的一种复调音乐体裁，又称“遁走曲”，意为追逐、遁走。赋格的结构与写法比较规范。乐曲开始时，以单声部形式贯穿全曲的主要音乐素材称为\"主题\"，与主题形成对位关系的称为\"对题\"。之后该主题及对题可以在不同声部中轮流出现，主题与主题之间也常有过渡性的乐句作音乐的对比。赋格是复调音乐中最为复杂而严谨的曲体形式.其基本特点是运用模仿对位法，使一个简单的而富有特性的主题在乐曲的各声部轮流出现一次（呈示部）；然后进入以主题中部分动机发展而成的插段，此后主题及插段又在各个不同的新调上一再出现（展开部）；直至最后主题再度回到原调（再现部），并常以尾声结束。"
   ]
  },
  {
   "cell_type": "code",
   "execution_count": null,
   "metadata": {},
   "outputs": [],
   "source": []
  }
 ],
 "metadata": {
  "kernelspec": {
   "display_name": "Python 3",
   "language": "python",
   "name": "python3"
  },
  "language_info": {
   "codemirror_mode": {
    "name": "ipython",
    "version": 3
   },
   "file_extension": ".py",
   "mimetype": "text/x-python",
   "name": "python",
   "nbconvert_exporter": "python",
   "pygments_lexer": "ipython3",
   "version": "3.6.5"
  }
 },
 "nbformat": 4,
 "nbformat_minor": 2
}
