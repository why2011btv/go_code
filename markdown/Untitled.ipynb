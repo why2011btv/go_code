{
 "cells": [
  {
   "cell_type": "code",
   "execution_count": 30,
   "metadata": {},
   "outputs": [
    {
     "name": "stdout",
     "output_type": "stream",
     "text": [
      "50:카\n",
      "1A\n",
      "298:\n",
      "1B\n",
      "547:\n",
      "2A\n",
      "796:\n",
      "2B\n",
      "1039\n",
      "3A\n",
      "1300\n",
      "3B\n",
      "1545\n",
      "4A\n",
      "1805\n",
      "4B\n",
      "2066\n",
      "5A\n",
      "2326\n",
      "5B\n",
      "2536\n",
      "6A\n",
      "2770\n",
      "6B\n"
     ]
    },
    {
     "name": "stderr",
     "output_type": "stream",
     "text": [
      "/anaconda3/lib/python3.6/site-packages/konlpy/tag/_okt.py:16: UserWarning: \"Twitter\" has changed to \"Okt\" since KoNLPy v0.4.5.\n",
      "  warn('\"Twitter\" has changed to \"Okt\" since KoNLPy v0.4.5.')\n"
     ]
    }
   ],
   "source": [
    "import os\n",
    "from konlpy.tag import Kkma\n",
    "from konlpy.tag import Twitter\n",
    "from konlpy.utils import pprint\n",
    "kkma = Kkma()\n",
    "twitter = Twitter()\n",
    "\n",
    "for i in [\"1\",\"2\",\"3\",\"4\",\"5\",\"6\"]:\n",
    "    for j in [\"A\",\"B\"]:\n",
    "        cmd = 'grep -n \"카테고리 보관물: LEVEL ' + i + j + '\" k_grammar.txt'\n",
    "        tmp = os.popen(cmd).readlines()\n",
    "        print(tmp[0][0:4])\n",
    "        print(i+j)"
   ]
  },
  {
   "cell_type": "code",
   "execution_count": 22,
   "metadata": {},
   "outputs": [
    {
     "data": {
      "text/plain": [
       "['1550:전에 경험해서 알게 된 사실이 나중에 어떤 결과를 낳았는지 설명하고 싶을 때에 사용합니다. 또는, 과거의 상황과 현재의 사실이 크게 달라졌을 때에도 사용할 수 있습니다.\\n',\n",
       " '1653:-는지/은지/ㄴ지\\n',\n",
       " '1659:● 민수 씨는 지금 자는지 아까부터 전화를 안 받네요.\\n',\n",
       " '1660:● 윤미는 저한테 화가 났는지 저를 봤는데도 인사도 안 하고 그냥 가요.\\n',\n",
       " '2826:● 무슨 생각을 하는지 수업을 듣는 둥 마는 둥 하다가 선생님한테 지적을 받았다.\\n',\n",
       " '2847:어떻게 하는지에 따라 상황이나 결과가 달라짐을 말합니다. 동사와 함께 사용됩니다.\\n']"
      ]
     },
     "execution_count": 22,
     "metadata": {},
     "output_type": "execute_result"
    }
   ],
   "source": [
    "to_search = \"는지\"\n",
    "cmd = 'grep -n ' + to_search + ' k_grammar.txt'\n",
    "tmp = os.popen(cmd).readlines()\n",
    "tmp"
   ]
  },
  {
   "cell_type": "code",
   "execution_count": 23,
   "metadata": {},
   "outputs": [
    {
     "data": {
      "text/plain": [
       "['-는지/은지/ㄴ지\\n',\n",
       " '댓글 남기기\\n',\n",
       " 'CLICK file_pdf TO DOWNLOAD.\\n',\n",
       " '\\n',\n",
       " '나름대로 생각하는 이유가 있기는 하지만 그것이 분명하지는 않을 때 사용합니다. 동사와 형용사 뒤에 붙어 사용합니다.\\n',\n",
       " '\\n',\n",
       " '● 민수 씨는 지금 자는지 아까부터 전화를 안 받네요.\\n',\n",
       " '● 윤미는 저한테 화가 났는지 저를 봤는데도 인사도 안 하고 그냥 가요.\\n']"
      ]
     },
     "execution_count": 23,
     "metadata": {},
     "output_type": "execute_result"
    }
   ],
   "source": [
    "cmd = 'sed -n \"1653,1660p\" k_grammar.txt'\n",
    "tmp = os.popen(cmd).readlines()\n",
    "tmp"
   ]
  },
  {
   "cell_type": "code",
   "execution_count": 46,
   "metadata": {},
   "outputs": [
    {
     "data": {
      "text/plain": [
       "['1550:전에 경험해서 알게 된 사실이 나중에 어떤 결과를 낳았는지 설명하고 싶을 때에 사용합니다. 또는, 과거의 상황과 현재의 사실이 크게 달라졌을 때에도 사용할 수 있습니다.\\n',\n",
       " '1653:-는지/은지/ㄴ지\\n',\n",
       " '1659:● 민수 씨는 지금 자는지 아까부터 전화를 안 받네요.\\n',\n",
       " '1660:● 윤미는 저한테 화가 났는지 저를 봤는데도 인사도 안 하고 그냥 가요.\\n',\n",
       " '2826:● 무슨 생각을 하는지 수업을 듣는 둥 마는 둥 하다가 선생님한테 지적을 받았다.\\n',\n",
       " '2847:어떻게 하는지에 따라 상황이나 결과가 달라짐을 말합니다. 동사와 함께 사용됩니다.\\n']"
      ]
     },
     "execution_count": 46,
     "metadata": {},
     "output_type": "execute_result"
    }
   ],
   "source": [
    "to_search = \"는지\"\n",
    "cmd = 'grep -n \"' + to_search + '\" k_grammar.txt'\n",
    "tmp = os.popen(cmd).readlines()\n",
    "tmp"
   ]
  },
  {
   "cell_type": "code",
   "execution_count": 49,
   "metadata": {},
   "outputs": [
    {
     "name": "stdout",
     "output_type": "stream",
     "text": [
      "[('덜컹', 'Adverb'),\n",
      " ('거리', 'Noun'),\n",
      " ('는', 'Josa'),\n",
      " ('전철', 'Noun'),\n",
      " ('을', 'Josa'),\n",
      " ('타고', 'Noun'),\n",
      " ('찾아가다', 'Verb'),\n",
      " ('그', 'Noun'),\n",
      " ('길', 'Noun')]\n"
     ]
    }
   ],
   "source": [
    "pprint(twitter.pos(u'덜컹거리는 전철을 타고 찾아가는 그 길', norm=True, stem=True))"
   ]
  },
  {
   "cell_type": "code",
   "execution_count": null,
   "metadata": {},
   "outputs": [],
   "source": []
  }
 ],
 "metadata": {
  "kernelspec": {
   "display_name": "Python 3",
   "language": "python",
   "name": "python3"
  },
  "language_info": {
   "codemirror_mode": {
    "name": "ipython",
    "version": 3
   },
   "file_extension": ".py",
   "mimetype": "text/x-python",
   "name": "python",
   "nbconvert_exporter": "python",
   "pygments_lexer": "ipython3",
   "version": "3.6.5"
  }
 },
 "nbformat": 4,
 "nbformat_minor": 2
}
