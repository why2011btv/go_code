{
 "cells": [
  {
   "cell_type": "markdown",
   "metadata": {},
   "source": [
    "## c++ vector\n",
    "obj.push_back(i);// push_back(elem)在数组最后添加数据\n",
    "\n",
    "obj.clear();//清除容器中所以数据\n",
    "\n",
    "obj.pop_back();//去掉数组最后一个数据\n",
    "\n",
    "obj.size();//size()容器中实际数据个数 \n",
    "\n",
    "sort(obj.begin(),obj.end());//从小到大\n",
    "\n",
    "reverse(obj.begin(),obj.end());//从大到小 \n",
    "\n",
    "//方法二，使用迭代器将容器中数据输出 \n",
    "\n",
    "    vector<int>::iterator it;//声明一个迭代器，来访问vector容器，作用：遍历或者指向vector容器的元素 \n",
    "    for(it=obj.begin();it!=obj.end();it++)\n",
    "    {\n",
    "        cout<<*it<<\" \";\n",
    "    }"
   ]
  },
  {
   "cell_type": "code",
   "execution_count": null,
   "metadata": {},
   "outputs": [],
   "source": []
  }
 ],
 "metadata": {
  "kernelspec": {
   "display_name": "Python 3",
   "language": "python",
   "name": "python3"
  },
  "language_info": {
   "codemirror_mode": {
    "name": "ipython",
    "version": 3
   },
   "file_extension": ".py",
   "mimetype": "text/x-python",
   "name": "python",
   "nbconvert_exporter": "python",
   "pygments_lexer": "ipython3",
   "version": "3.6.5"
  }
 },
 "nbformat": 4,
 "nbformat_minor": 2
}
