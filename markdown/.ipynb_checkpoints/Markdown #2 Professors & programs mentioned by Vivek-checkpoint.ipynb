{
 "cells": [
  {
   "cell_type": "markdown",
   "metadata": {},
   "source": [
    "## JHU: https://www.clsp.jhu.edu/workshops/ *\n",
    "\n",
    "## UCLA: Kaiwei Zhang x\n",
    "\n",
    "## UCI: Sameer Singh x\n",
    "\n",
    "http://sameersingh.org\n",
    "\n",
    "## UCSC: Marilyn Walker x\n",
    "\n",
    "https://www.soe.ucsc.edu/people/maw\n",
    "\n",
    "## NYU: Jacob Eisenstein *\n",
    "\n",
    "https://www.cc.gatech.edu/~jeisenst/\n",
    "\n",
    "## NYU: Sam Bowman *\n",
    "\n",
    "https://www.nyu.edu/projects/bowman/\n",
    "\n",
    "## UW: Noah Smith x\n",
    "\n",
    "## UW: Yejin Choi *\n",
    "\n",
    "https://www.cs.washington.edu/people/faculty/yejin\n",
    "\n",
    "## Stony Brook: Niranjan Balasubramanian x\n",
    "\n",
    "https://www.cs.stonybrook.edu/people/faculty/NiranjanBalasubramanian\n",
    "\n",
    "## Stony Brook: H. Andrew Schwartz x\n",
    "\n",
    "https://nlp.cs.stonybrook.edu/content/h-andrew-schwartz\n",
    "\n",
    "## Gatech: Munmun DeChoudhury\n",
    "\n",
    "https://www.cc.gatech.edu/people/munmun-dechoudhury\n",
    "\n",
    "## Gatech: Dhruv Batra\n",
    "\n",
    "https://www.cc.gatech.edu/~dbatra/index.html\n",
    "\n",
    "## Gatech: Devi Parikh \n",
    "\n",
    "https://www.cc.gatech.edu/~parikh/\n",
    "\n",
    "## UMass: Mohit Iyyer *\n",
    "\n",
    "https://people.cs.umass.edu/~miyyer/\n",
    "\n",
    "## CMU: Graham Neubig *\n",
    "\n",
    "http://www.cs.cmu.edu/~neulab/people.html\n",
    "\n",
    "## CMU: Zack Lipton *\n",
    "\n",
    "http://zacklipton.com\n",
    "\n"
   ]
  },
  {
   "cell_type": "code",
   "execution_count": null,
   "metadata": {},
   "outputs": [],
   "source": []
  }
 ],
 "metadata": {
  "kernelspec": {
   "display_name": "Python 3",
   "language": "python",
   "name": "python3"
  },
  "language_info": {
   "codemirror_mode": {
    "name": "ipython",
    "version": 3
   },
   "file_extension": ".py",
   "mimetype": "text/x-python",
   "name": "python",
   "nbconvert_exporter": "python",
   "pygments_lexer": "ipython3",
   "version": "3.6.5"
  }
 },
 "nbformat": 4,
 "nbformat_minor": 2
}
