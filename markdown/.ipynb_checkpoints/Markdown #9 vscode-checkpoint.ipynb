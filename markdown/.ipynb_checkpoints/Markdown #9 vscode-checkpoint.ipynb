{
 "cells": [
  {
   "cell_type": "markdown",
   "metadata": {},
   "source": [
    "http://www.cnblogs.com/iloveyoucc/archive/2012/08/29/2661851.html\n",
    "\n",
    "## g++编译.cpp生成exe\n",
    "\n",
    "1. 编译重命名等：\n",
    "\n",
    "1) \n",
    "g++ –c Hello.cpp  编译文件，生成目标文件 Hello.o\n",
    "g++ Hello.o –o abc  连接 并重命名为可执行文件 abc\n",
    "\n",
    "2)\n",
    "g++ Hello.cpp    编译连接一起，生成a.out\n",
    "\n",
    "3)\n",
    "g++ Hello.cpp –o hello 生成a.out并命名为hello\n",
    "<img src=\"g++ main.cpp -o main.png\" width=\"800\"/>\n",
    "\n",
    "2. 多文件编译\n",
    "\n",
    "g++ hellospeak.cpp speak.cpp -o hellospeak\n",
    "\n",
    "## gcc编译.c生成exe\n",
    "gcc main.c -o abc   同g++中的3)\n",
    "<img src=\"gcc main.c -o main.png\" width=\"800\"/>\n",
    "\n",
    "## go build hello.go\n",
    "<img src=\"go build hello.go (golang).png\" width=\"800\"/>"
   ]
  },
  {
   "cell_type": "code",
   "execution_count": null,
   "metadata": {},
   "outputs": [],
   "source": []
  }
 ],
 "metadata": {
  "kernelspec": {
   "display_name": "Python 3",
   "language": "python",
   "name": "python3"
  },
  "language_info": {
   "codemirror_mode": {
    "name": "ipython",
    "version": 3
   },
   "file_extension": ".py",
   "mimetype": "text/x-python",
   "name": "python",
   "nbconvert_exporter": "python",
   "pygments_lexer": "ipython3",
   "version": "3.6.5"
  }
 },
 "nbformat": 4,
 "nbformat_minor": 2
}
