{
 "cells": [
  {
   "cell_type": "markdown",
   "metadata": {},
   "source": [
    "卡介苗\n",
    "脊髓灰质炎疫苗\n",
    "百白破混合制剂\n",
    "麻疹\n",
    "百破二联\n",
    "乙脑\n",
    "流脑多醣体\n",
    "乙肝\n",
    "腮腺炎\n",
    "麻风\n",
    "지금 배달(pae dar) 돼(tuae)요?\n",
    "Is delivery possible now?\n",
    "\n",
    "엄아 같은 친구\n",
    "a friend like my mom\n",
    "noun 같은 noun\n",
    "\n",
    "엄아처럼 말아다\n",
    "talk like my mom\n",
    "\n",
    "다 그런 거지\n",
    "다(all, everything), 그런(to be so), 지(acknowledging a fact)\n",
    "\n",
    "겉과 속이 다른 세상. 참(sigh).\n",
    "겉(outside),속(inside), 다르다 different, 세상 world\n",
    "\n",
    "날씨가 너무 좋아요! The weather is very good!\n",
    "가: subject particle\n",
    "\n",
    "화창하다 to be sunny\n",
    "맑다. to be clear\n",
    "하늘이 맑아요. sky is clear."
   ]
  }
 ],
 "metadata": {
  "kernelspec": {
   "display_name": "Python 3",
   "language": "python",
   "name": "python3"
  },
  "language_info": {
   "codemirror_mode": {
    "name": "ipython",
    "version": 3
   },
   "file_extension": ".py",
   "mimetype": "text/x-python",
   "name": "python",
   "nbconvert_exporter": "python",
   "pygments_lexer": "ipython3",
   "version": "3.6.5"
  }
 },
 "nbformat": 4,
 "nbformat_minor": 2
}
