{
 "cells": [
  {
   "cell_type": "markdown",
   "metadata": {},
   "source": [
    "# Homepage 搭建历程\n",
    "\n",
    "## 思路：从简单的markdown开始\n",
    "\n",
    "## https://pages.github.com 按照这个网页生成 why2011btv.github.io\n",
    "\n",
    "## 然后 Theme chooser, Change theme\n",
    "\n",
    "## 写index.md\n",
    "\n",
    "## 后来发现不够美观，遇到md中解决不了的瓶颈\n",
    "\n",
    "## Develop - Show Page Source\n",
    "\n",
    "## 建立 index.html\n",
    "\n",
    "## 开始改html，还是有解决不了的问题：图片和文字并排放\n",
    "\n",
    "## mkdir css\n",
    "\n",
    "## cd css\n",
    "\n",
    "## vi stylesheet.css\n",
    "\n",
    "## 把模版自带的两个css中的明显是说明网页布局的那个copy进自己的stylesheet.css\n",
    "\n",
    "## 文字部分的width太窄了\n",
    "\n",
    "margin: 0 auto;  改这个没用\n",
    "\n",
    "@media screen and (min-width: 64em) {\n",
    "\n",
    "    .main-content {\n",
    "    \n",
    "        max-width: 80rem;  改这个数有用\n",
    "        \n",
    "        padding: 2rem 6rem;\n",
    "        \n",
    "        margin: 0 auto;\n",
    "        \n",
    "        font-size: 1.1rem\n",
    "        \n",
    "    }\n",
    "    \n",
    "}\n",
    "\n",
    "## 百度统计：看到网页的浏览量、访客信息 https://tongji.baidu.com/web/27675534/visit/district?siteId=13270678\n",
    "\n",
    "## mkdir js\n",
    "\n",
    "## cd js\n",
    "\n",
    "## vi tongji.js\n",
    "\n",
    "## 在 index.html 和 tongji.js 中加入百度统计中生成的script字段"
   ]
  },
  {
   "cell_type": "code",
   "execution_count": null,
   "metadata": {},
   "outputs": [],
   "source": []
  },
  {
   "cell_type": "code",
   "execution_count": null,
   "metadata": {},
   "outputs": [],
   "source": []
  }
 ],
 "metadata": {
  "kernelspec": {
   "display_name": "Python 3",
   "language": "python",
   "name": "python3"
  },
  "language_info": {
   "codemirror_mode": {
    "name": "ipython",
    "version": 3
   },
   "file_extension": ".py",
   "mimetype": "text/x-python",
   "name": "python",
   "nbconvert_exporter": "python",
   "pygments_lexer": "ipython3",
   "version": "3.6.5"
  }
 },
 "nbformat": 4,
 "nbformat_minor": 2
}
